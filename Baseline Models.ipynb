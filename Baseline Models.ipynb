{
 "cells": [
  {
   "cell_type": "code",
   "execution_count": 50,
   "id": "c7ec0c1d",
   "metadata": {},
   "outputs": [],
   "source": [
    "from skimage.segmentation import slic\n",
    "from skimage import feature\n",
    "import skimage.io as io\n",
    "from skimage import transform , data\n",
    "import skimage.transform\n",
    "from sklearn.metrics import precision_score, recall_score,f1_score, confusion_matrix ,accuracy_score\n"
   ]
  },
  {
   "cell_type": "code",
   "execution_count": 51,
   "id": "3454d96e",
   "metadata": {},
   "outputs": [],
   "source": [
    "# import the necessary packages\n",
    "from tensorflow.keras.layers import Input\n",
    "from tensorflow.keras.models import Model\n",
    "from tensorflow.keras.optimizers import Adam\n",
    "from tensorflow.keras.preprocessing.image import img_to_array\n",
    "from tensorflow.keras.preprocessing.image import load_img\n",
    "from tensorflow.keras.utils import to_categorical\n",
    "from sklearn.model_selection import train_test_split\n",
    "#from imutils import paths\n",
    "import matplotlib.pyplot as plt\n",
    "import numpy as np\n",
    "import cv2,os\n",
    "from skimage.io import imread \n",
    "from skimage.transform import resize\n",
    "from sklearn.ensemble import RandomForestClassifier\n",
    "from sklearn.naive_bayes import BernoulliNB, GaussianNB\n"
   ]
  },
  {
   "cell_type": "markdown",
   "id": "956b4ba2",
   "metadata": {},
   "source": [
    "### Methods to Use Amoung File"
   ]
  },
  {
   "cell_type": "code",
   "execution_count": 53,
   "id": "2b6ce02d",
   "metadata": {},
   "outputs": [],
   "source": [
    "def getScores(model_,X_train_, y_train_, X_val_, y_val_, y_pred_):\n",
    "    \"\"\"\n",
    "    This method gets all the needed scores (accuracy, precision, recall and f1) \n",
    "    from the training/validation sets after getting the model, x train and\n",
    "    validation, y train and validation, and the y predicted\n",
    "    \"\"\"\n",
    "    print(\"Training Score \",model_.score(X_train_, y_train_))\n",
    "    print(\"Validation Score \",model_.score(X_val_, y_val_))\n",
    "    print(\"Precision: {:6.4f},   Recall: {:6.4f}, f1: {:6.4f}\".format(precision_score(y_val_, y_pred_, average='micro'), \n",
    "                                                         recall_score(y_val_, y_pred_, average='micro'),f1_score(y_val_,y_pred_,average='micro')))"
   ]
  },
  {
   "cell_type": "code",
   "execution_count": 30,
   "id": "1b800eba",
   "metadata": {},
   "outputs": [],
   "source": [
    "\n",
    "\n",
    "def make_confusion_matrix(model, threshold=0.5):\n",
    "    \"\"\"\n",
    "    This method draws the confusion matrixs for each given model\n",
    "    \"\"\"\n",
    "    y_predict = (model.predict_proba(new_X_val)[:, 2] >= threshold)\n",
    "    avtivity_confusion = confusion_matrix(y_val.astype(str), y_predict.astype(str))\n",
    "    plt.figure(dpi=100)\n",
    "    sns.heatmap(avtivity_confusion, cmap=plt.cm.Blues, annot=True, square=True, fmt='d',\n",
    "           xticklabels= new_X_val,\n",
    "           yticklabels= new_X_val);\n",
    "    plt.xlabel('prediction')\n",
    "    plt.ylabel('actual')"
   ]
  },
  {
   "cell_type": "code",
   "execution_count": 54,
   "id": "af39486a",
   "metadata": {},
   "outputs": [],
   "source": [
    "batch_size = 32\n",
    "imageSize = 32\n",
    "target_dims = (imageSize, imageSize, 3)\n",
    "num_classes = 3\n",
    "train_len = 8982\n",
    "train_dir = r'C:\\Users\\Computer\\Desktop\\flask_app\\Dataset'\n",
    "def get_data(folder):\n",
    "    X = np.empty((train_len, imageSize, imageSize, 3), dtype=np.float32)\n",
    "    y = np.empty((train_len,), dtype=np.int)\n",
    "    cnt = 0\n",
    "    for folderName in os.listdir(folder):\n",
    "        if not folderName.startswith('.'):\n",
    "            if folderName in ['with_mask']:\n",
    "                label = 0\n",
    "            elif folderName in ['without_mask']:\n",
    "                label = 1\n",
    "            elif folderName in ['mask_weared_incorrect']:\n",
    "                label = 2\n",
    "\n",
    "            for image_filename in os.listdir(folder + '\\\\' + folderName):\n",
    "                img_file = cv2.imread(folder + '\\\\' + folderName + '\\\\' + image_filename)\n",
    "                if img_file is not None:\n",
    "                    img_file = skimage.transform.resize(img_file, (imageSize, imageSize, 3))\n",
    "                    img_arr = np.asarray(img_file).reshape((-1, imageSize, imageSize, 3))\n",
    "                    \n",
    "                    X[cnt] = img_arr\n",
    "                    y[cnt] = label\n",
    "                    cnt += 1\n",
    "    return X,y\n",
    "X, y = get_data(train_dir)"
   ]
  },
  {
   "cell_type": "code",
   "execution_count": 55,
   "id": "dee2b707",
   "metadata": {},
   "outputs": [
    {
     "data": {
      "text/plain": [
       "((8982, 32, 32, 3), (8982,))"
      ]
     },
     "execution_count": 55,
     "metadata": {},
     "output_type": "execute_result"
    }
   ],
   "source": [
    "X.shape , y.shape "
   ]
  },
  {
   "cell_type": "code",
   "execution_count": 56,
   "id": "cbbf019c",
   "metadata": {},
   "outputs": [],
   "source": [
    "X_train, X_val_test, y_train, y_val_test = train_test_split(X, y, test_size=.2, random_state=77,shuffle=True)\n",
    "X_val, X_test, y_val, y_test = train_test_split(X_val_test, y_val_test, test_size=0.5, random_state=77)"
   ]
  },
  {
   "cell_type": "code",
   "execution_count": 57,
   "id": "c6598238",
   "metadata": {},
   "outputs": [
    {
     "name": "stdout",
     "output_type": "stream",
     "text": [
      "\n",
      "Training data: (7185, 32, 32, 3),  labels: (7185,)\n",
      "Validation data: (898, 32, 32, 3),  labels: (898,)\n",
      "Testing data: (899, 32, 32, 3),  labels: (899,)\n"
     ]
    }
   ],
   "source": [
    "print(f\"\\nTraining data: {X_train.shape},  labels: {y_train.shape}\")\n",
    "print(f\"Validation data: {X_val.shape},  labels: {y_val.shape}\")\n",
    "print(f\"Testing data: {X_test.shape},  labels: {y_test.shape}\")"
   ]
  },
  {
   "cell_type": "code",
   "execution_count": 58,
   "id": "086571ec",
   "metadata": {},
   "outputs": [],
   "source": [
    "new_X_train = X_train.reshape(7185, 32 * 32 * 3)\n",
    "new_X_val = X_val.reshape(898, 32 * 32 * 3)\n",
    "#new_X_test = X_test.reshape(898, 32 * 32 * 3)"
   ]
  },
  {
   "cell_type": "markdown",
   "id": "9dc8e0fe",
   "metadata": {},
   "source": [
    "### Baseline \n",
    "### 1-  Logistic Regression "
   ]
  },
  {
   "cell_type": "markdown",
   "id": "7c426bd9",
   "metadata": {},
   "source": [
    "#### Model Fitting"
   ]
  },
  {
   "cell_type": "code",
   "execution_count": 13,
   "id": "0e4f0973",
   "metadata": {
    "scrolled": true
   },
   "outputs": [],
   "source": [
    "from sklearn.linear_model import LogisticRegression\n",
    "model = LogisticRegression(solver='liblinear')\n",
    "model = model.fit(new_X_train, y_train)"
   ]
  },
  {
   "cell_type": "markdown",
   "id": "503b92d5",
   "metadata": {},
   "source": [
    "#### Model Prediction"
   ]
  },
  {
   "cell_type": "code",
   "execution_count": 14,
   "id": "05e4cfcf",
   "metadata": {
    "scrolled": true
   },
   "outputs": [],
   "source": [
    "y_pred = model.predict(new_X_val)"
   ]
  },
  {
   "cell_type": "markdown",
   "id": "c3055d89",
   "metadata": {},
   "source": [
    "#### Model Scores"
   ]
  },
  {
   "cell_type": "code",
   "execution_count": 15,
   "id": "7890e349",
   "metadata": {
    "scrolled": true
   },
   "outputs": [
    {
     "name": "stdout",
     "output_type": "stream",
     "text": [
      "Training Score  0.9611691022964509\n",
      "Validation Score  0.9220489977728286\n",
      "Precision: 0.9220,   Recall: 0.9220, f1: 0.9220\n"
     ]
    }
   ],
   "source": [
    "getScores(model, new_X_train, y_train, new_X_val, y_val, y_pred)"
   ]
  },
  {
   "cell_type": "markdown",
   "id": "f721627e",
   "metadata": {},
   "source": [
    "###  2- Random Forest Classifier"
   ]
  },
  {
   "cell_type": "markdown",
   "id": "02eca2dc",
   "metadata": {},
   "source": [
    "#### Model Fitting"
   ]
  },
  {
   "cell_type": "code",
   "execution_count": 18,
   "id": "9c9b102d",
   "metadata": {
    "scrolled": true
   },
   "outputs": [],
   "source": [
    "model = RandomForestClassifier(n_estimators=40)\n",
    "model = model.fit(new_X_train, y_train)"
   ]
  },
  {
   "cell_type": "markdown",
   "id": "cd0b42a3",
   "metadata": {},
   "source": [
    "#### Model Prediction"
   ]
  },
  {
   "cell_type": "code",
   "execution_count": 19,
   "id": "a5c9775b",
   "metadata": {
    "scrolled": true
   },
   "outputs": [],
   "source": [
    "y_pred = model.predict(new_X_val)"
   ]
  },
  {
   "cell_type": "markdown",
   "id": "da5d4823",
   "metadata": {},
   "source": [
    "#### Model Scores"
   ]
  },
  {
   "cell_type": "code",
   "execution_count": 20,
   "id": "4beaf215",
   "metadata": {
    "scrolled": true
   },
   "outputs": [
    {
     "name": "stdout",
     "output_type": "stream",
     "text": [
      "Training Score  1.0\n",
      "Validation Score  0.9398663697104677\n",
      "Precision: 0.9399,   Recall: 0.9399, f1: 0.9399\n"
     ]
    }
   ],
   "source": [
    "getScores(model, new_X_train, y_train, new_X_val, y_val, y_pred)"
   ]
  },
  {
   "cell_type": "markdown",
   "id": "bdd154b6",
   "metadata": {},
   "source": [
    "### 3- GaussianNB"
   ]
  },
  {
   "cell_type": "markdown",
   "id": "8f9e3c56",
   "metadata": {},
   "source": [
    "#### Model Fitting"
   ]
  },
  {
   "cell_type": "code",
   "execution_count": 21,
   "id": "dc11c41a",
   "metadata": {
    "scrolled": true
   },
   "outputs": [],
   "source": [
    "model = GaussianNB().fit(new_X_train, y_train)"
   ]
  },
  {
   "cell_type": "markdown",
   "id": "f677ab82",
   "metadata": {},
   "source": [
    "#### Model Prediction"
   ]
  },
  {
   "cell_type": "code",
   "execution_count": 22,
   "id": "d1dad4ed",
   "metadata": {
    "scrolled": true
   },
   "outputs": [],
   "source": [
    "y_pred = model.predict(new_X_val)"
   ]
  },
  {
   "cell_type": "markdown",
   "id": "820cdf4b",
   "metadata": {},
   "source": [
    "#### Model Scores"
   ]
  },
  {
   "cell_type": "code",
   "execution_count": 23,
   "id": "d7027703",
   "metadata": {},
   "outputs": [
    {
     "name": "stdout",
     "output_type": "stream",
     "text": [
      "Training Score  0.7421016005567154\n",
      "Validation Score  0.7427616926503341\n",
      "Precision: 0.7428,   Recall: 0.7428, f1: 0.7428\n"
     ]
    }
   ],
   "source": [
    "getScores(model, new_X_train, y_train, new_X_val, y_val, y_pred)"
   ]
  },
  {
   "cell_type": "markdown",
   "id": "9187e676",
   "metadata": {},
   "source": [
    "### 4- BernoulliNB"
   ]
  },
  {
   "cell_type": "markdown",
   "id": "e338be80",
   "metadata": {},
   "source": [
    "#### Model Fitting"
   ]
  },
  {
   "cell_type": "code",
   "execution_count": 61,
   "id": "58f9e35e",
   "metadata": {
    "scrolled": true
   },
   "outputs": [],
   "source": [
    "model = BernoulliNB().fit(new_X_train, y_train)"
   ]
  },
  {
   "cell_type": "markdown",
   "id": "d6bbe75a",
   "metadata": {},
   "source": [
    "#### Model Prediction"
   ]
  },
  {
   "cell_type": "code",
   "execution_count": 62,
   "id": "e7fb497a",
   "metadata": {
    "scrolled": true
   },
   "outputs": [],
   "source": [
    "y_pred = model.predict(new_X_val)"
   ]
  },
  {
   "cell_type": "markdown",
   "id": "08092a82",
   "metadata": {},
   "source": [
    "#### Model Scores"
   ]
  },
  {
   "cell_type": "code",
   "execution_count": 63,
   "id": "a63c414b",
   "metadata": {
    "scrolled": true
   },
   "outputs": [
    {
     "name": "stdout",
     "output_type": "stream",
     "text": [
      "Training Score  0.3684064022268615\n",
      "Validation Score  0.34521158129175944\n",
      "Precision: 0.3452,   Recall: 0.3452, f1: 0.3452\n"
     ]
    }
   ],
   "source": [
    "getScores(model, new_X_train, y_train, new_X_val, y_val, y_pred)"
   ]
  },
  {
   "cell_type": "code",
   "execution_count": null,
   "id": "20b3f4d4",
   "metadata": {},
   "outputs": [],
   "source": []
  }
 ],
 "metadata": {
  "kernelspec": {
   "display_name": "Python 3",
   "language": "python",
   "name": "python3"
  },
  "language_info": {
   "codemirror_mode": {
    "name": "ipython",
    "version": 3
   },
   "file_extension": ".py",
   "mimetype": "text/x-python",
   "name": "python",
   "nbconvert_exporter": "python",
   "pygments_lexer": "ipython3",
   "version": "3.8.8"
  }
 },
 "nbformat": 4,
 "nbformat_minor": 5
}
